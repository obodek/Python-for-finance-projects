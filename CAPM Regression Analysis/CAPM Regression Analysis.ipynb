{
 "cells": [
  {
   "cell_type": "markdown",
   "metadata": {},
   "source": [
    "### 4. Create a new dataframe of prices\n",
    "In this assignment we will calculate some betas and returns. But first, we need to create a DataFrame. Let's create a DataFrame of the prices of the S&P500, Accenture, Citigroup, JP Morgan, Pepsi Co and Nike (the tickers are: SPY', 'ACN', 'C', 'JPM' and 'NKE), running from \"01-01-2019\" to \"20-12-2019\". In other words run the previously created function using a different timeframe and different stocks. Call this DataFrame df_prices."
   ]
  },
  {
   "cell_type": "code",
   "execution_count": 7,
   "metadata": {},
   "outputs": [
    {
     "data": {
      "text/html": [
       "<div>\n",
       "<style scoped>\n",
       "    .dataframe tbody tr th:only-of-type {\n",
       "        vertical-align: middle;\n",
       "    }\n",
       "\n",
       "    .dataframe tbody tr th {\n",
       "        vertical-align: top;\n",
       "    }\n",
       "\n",
       "    .dataframe thead th {\n",
       "        text-align: right;\n",
       "    }\n",
       "</style>\n",
       "<table border=\"1\" class=\"dataframe\">\n",
       "  <thead>\n",
       "    <tr style=\"text-align: right;\">\n",
       "      <th></th>\n",
       "      <th>SPY</th>\n",
       "      <th>ACN</th>\n",
       "      <th>C</th>\n",
       "      <th>JPM</th>\n",
       "      <th>NKE</th>\n",
       "    </tr>\n",
       "  </thead>\n",
       "  <tbody>\n",
       "    <tr>\n",
       "      <td>2019-01-02</td>\n",
       "      <td>245.534673</td>\n",
       "      <td>138.844462</td>\n",
       "      <td>52.062969</td>\n",
       "      <td>95.674445</td>\n",
       "      <td>73.280125</td>\n",
       "    </tr>\n",
       "    <tr>\n",
       "      <td>2019-01-03</td>\n",
       "      <td>239.675524</td>\n",
       "      <td>134.104058</td>\n",
       "      <td>51.119553</td>\n",
       "      <td>94.325696</td>\n",
       "      <td>71.983920</td>\n",
       "    </tr>\n",
       "    <tr>\n",
       "      <td>2019-01-04</td>\n",
       "      <td>247.703638</td>\n",
       "      <td>139.318503</td>\n",
       "      <td>53.619120</td>\n",
       "      <td>97.803051</td>\n",
       "      <td>73.863912</td>\n",
       "    </tr>\n",
       "    <tr>\n",
       "      <td>2019-01-07</td>\n",
       "      <td>249.656688</td>\n",
       "      <td>139.802419</td>\n",
       "      <td>54.085965</td>\n",
       "      <td>97.871044</td>\n",
       "      <td>74.922644</td>\n",
       "    </tr>\n",
       "    <tr>\n",
       "      <td>2019-01-08</td>\n",
       "      <td>252.002311</td>\n",
       "      <td>143.337971</td>\n",
       "      <td>53.940076</td>\n",
       "      <td>97.686492</td>\n",
       "      <td>75.922009</td>\n",
       "    </tr>\n",
       "    <tr>\n",
       "      <td>...</td>\n",
       "      <td>...</td>\n",
       "      <td>...</td>\n",
       "      <td>...</td>\n",
       "      <td>...</td>\n",
       "      <td>...</td>\n",
       "    </tr>\n",
       "    <tr>\n",
       "      <td>2019-12-16</td>\n",
       "      <td>317.943639</td>\n",
       "      <td>205.000000</td>\n",
       "      <td>76.910000</td>\n",
       "      <td>136.452281</td>\n",
       "      <td>98.810000</td>\n",
       "    </tr>\n",
       "    <tr>\n",
       "      <td>2019-12-17</td>\n",
       "      <td>318.013298</td>\n",
       "      <td>203.400000</td>\n",
       "      <td>77.740000</td>\n",
       "      <td>137.286851</td>\n",
       "      <td>99.650000</td>\n",
       "    </tr>\n",
       "    <tr>\n",
       "      <td>2019-12-18</td>\n",
       "      <td>318.033201</td>\n",
       "      <td>205.760000</td>\n",
       "      <td>77.920000</td>\n",
       "      <td>137.147756</td>\n",
       "      <td>100.570000</td>\n",
       "    </tr>\n",
       "    <tr>\n",
       "      <td>2019-12-19</td>\n",
       "      <td>319.336820</td>\n",
       "      <td>208.300000</td>\n",
       "      <td>78.200000</td>\n",
       "      <td>136.462216</td>\n",
       "      <td>101.150000</td>\n",
       "    </tr>\n",
       "    <tr>\n",
       "      <td>2019-12-20</td>\n",
       "      <td>320.730000</td>\n",
       "      <td>211.100000</td>\n",
       "      <td>78.510000</td>\n",
       "      <td>136.352927</td>\n",
       "      <td>99.960000</td>\n",
       "    </tr>\n",
       "  </tbody>\n",
       "</table>\n",
       "<p>246 rows × 5 columns</p>\n",
       "</div>"
      ],
      "text/plain": [
       "                   SPY         ACN          C         JPM         NKE\n",
       "2019-01-02  245.534673  138.844462  52.062969   95.674445   73.280125\n",
       "2019-01-03  239.675524  134.104058  51.119553   94.325696   71.983920\n",
       "2019-01-04  247.703638  139.318503  53.619120   97.803051   73.863912\n",
       "2019-01-07  249.656688  139.802419  54.085965   97.871044   74.922644\n",
       "2019-01-08  252.002311  143.337971  53.940076   97.686492   75.922009\n",
       "...                ...         ...        ...         ...         ...\n",
       "2019-12-16  317.943639  205.000000  76.910000  136.452281   98.810000\n",
       "2019-12-17  318.013298  203.400000  77.740000  137.286851   99.650000\n",
       "2019-12-18  318.033201  205.760000  77.920000  137.147756  100.570000\n",
       "2019-12-19  319.336820  208.300000  78.200000  136.462216  101.150000\n",
       "2019-12-20  320.730000  211.100000  78.510000  136.352927   99.960000\n",
       "\n",
       "[246 rows x 5 columns]"
      ]
     },
     "execution_count": 7,
     "metadata": {},
     "output_type": "execute_result"
    }
   ],
   "source": [
    "df_prices = prep(['SPY', 'ACN', 'C', 'JPM', 'NKE'], \"01-01-2019\", \"20-12-2019\")\n",
    "df_prices"
   ]
  },
  {
   "cell_type": "markdown",
   "metadata": {},
   "source": [
    "### 4.1 Calculate returns from prices (5 points)\n",
    "\n",
    "Next, we are going to create a DataFrame of returns from prices. Create a function called 'calc_returns' which takes as input 'df_prices' and converts the prices into daily logarithmic returns, multiplied by 100 and drops the NAs resulting from the return calculation. Assign the resulting DataFrame to the variable `Returns`.\n",
    "You will need `numpy` for the logs."
   ]
  },
  {
   "cell_type": "code",
   "execution_count": 28,
   "metadata": {},
   "outputs": [
    {
     "data": {
      "text/html": [
       "<div>\n",
       "<style scoped>\n",
       "    .dataframe tbody tr th:only-of-type {\n",
       "        vertical-align: middle;\n",
       "    }\n",
       "\n",
       "    .dataframe tbody tr th {\n",
       "        vertical-align: top;\n",
       "    }\n",
       "\n",
       "    .dataframe thead th {\n",
       "        text-align: right;\n",
       "    }\n",
       "</style>\n",
       "<table border=\"1\" class=\"dataframe\">\n",
       "  <thead>\n",
       "    <tr style=\"text-align: right;\">\n",
       "      <th></th>\n",
       "      <th>SPY</th>\n",
       "      <th>ACN</th>\n",
       "      <th>C</th>\n",
       "      <th>JPM</th>\n",
       "      <th>NKE</th>\n",
       "    </tr>\n",
       "  </thead>\n",
       "  <tbody>\n",
       "    <tr>\n",
       "      <td>2019-01-03</td>\n",
       "      <td>-2.415215</td>\n",
       "      <td>-3.473828</td>\n",
       "      <td>-1.828687</td>\n",
       "      <td>-1.419758</td>\n",
       "      <td>-1.784667</td>\n",
       "    </tr>\n",
       "    <tr>\n",
       "      <td>2019-01-04</td>\n",
       "      <td>3.294700</td>\n",
       "      <td>3.814665</td>\n",
       "      <td>4.773866</td>\n",
       "      <td>3.620213</td>\n",
       "      <td>2.578162</td>\n",
       "    </tr>\n",
       "    <tr>\n",
       "      <td>2019-01-07</td>\n",
       "      <td>0.785370</td>\n",
       "      <td>0.346743</td>\n",
       "      <td>0.866901</td>\n",
       "      <td>0.069496</td>\n",
       "      <td>1.423180</td>\n",
       "    </tr>\n",
       "    <tr>\n",
       "      <td>2019-01-08</td>\n",
       "      <td>0.935153</td>\n",
       "      <td>2.497514</td>\n",
       "      <td>-0.270100</td>\n",
       "      <td>-0.188745</td>\n",
       "      <td>1.325044</td>\n",
       "    </tr>\n",
       "    <tr>\n",
       "      <td>2019-01-09</td>\n",
       "      <td>0.466256</td>\n",
       "      <td>0.501702</td>\n",
       "      <td>1.645245</td>\n",
       "      <td>-0.169180</td>\n",
       "      <td>-0.182625</td>\n",
       "    </tr>\n",
       "    <tr>\n",
       "      <td>...</td>\n",
       "      <td>...</td>\n",
       "      <td>...</td>\n",
       "      <td>...</td>\n",
       "      <td>...</td>\n",
       "      <td>...</td>\n",
       "    </tr>\n",
       "    <tr>\n",
       "      <td>2019-12-16</td>\n",
       "      <td>0.684655</td>\n",
       "      <td>-0.806495</td>\n",
       "      <td>0.678411</td>\n",
       "      <td>0.386650</td>\n",
       "      <td>1.058103</td>\n",
       "    </tr>\n",
       "    <tr>\n",
       "      <td>2019-12-17</td>\n",
       "      <td>0.021907</td>\n",
       "      <td>-0.783550</td>\n",
       "      <td>1.073402</td>\n",
       "      <td>0.609758</td>\n",
       "      <td>0.846523</td>\n",
       "    </tr>\n",
       "    <tr>\n",
       "      <td>2019-12-18</td>\n",
       "      <td>0.006258</td>\n",
       "      <td>1.153596</td>\n",
       "      <td>0.231273</td>\n",
       "      <td>-0.101368</td>\n",
       "      <td>0.918996</td>\n",
       "    </tr>\n",
       "    <tr>\n",
       "      <td>2019-12-19</td>\n",
       "      <td>0.409062</td>\n",
       "      <td>1.226891</td>\n",
       "      <td>0.358699</td>\n",
       "      <td>-0.501109</td>\n",
       "      <td>0.575056</td>\n",
       "    </tr>\n",
       "    <tr>\n",
       "      <td>2019-12-20</td>\n",
       "      <td>0.435324</td>\n",
       "      <td>1.335261</td>\n",
       "      <td>0.395636</td>\n",
       "      <td>-0.080119</td>\n",
       "      <td>-1.183446</td>\n",
       "    </tr>\n",
       "  </tbody>\n",
       "</table>\n",
       "<p>245 rows × 5 columns</p>\n",
       "</div>"
      ],
      "text/plain": [
       "                 SPY       ACN         C       JPM       NKE\n",
       "2019-01-03 -2.415215 -3.473828 -1.828687 -1.419758 -1.784667\n",
       "2019-01-04  3.294700  3.814665  4.773866  3.620213  2.578162\n",
       "2019-01-07  0.785370  0.346743  0.866901  0.069496  1.423180\n",
       "2019-01-08  0.935153  2.497514 -0.270100 -0.188745  1.325044\n",
       "2019-01-09  0.466256  0.501702  1.645245 -0.169180 -0.182625\n",
       "...              ...       ...       ...       ...       ...\n",
       "2019-12-16  0.684655 -0.806495  0.678411  0.386650  1.058103\n",
       "2019-12-17  0.021907 -0.783550  1.073402  0.609758  0.846523\n",
       "2019-12-18  0.006258  1.153596  0.231273 -0.101368  0.918996\n",
       "2019-12-19  0.409062  1.226891  0.358699 -0.501109  0.575056\n",
       "2019-12-20  0.435324  1.335261  0.395636 -0.080119 -1.183446\n",
       "\n",
       "[245 rows x 5 columns]"
      ]
     },
     "execution_count": 28,
     "metadata": {},
     "output_type": "execute_result"
    }
   ],
   "source": [
    "import numpy as np\n",
    "\n",
    "def calc_returns(df):\n",
    "    \n",
    "    x = np.log(df).diff().mul(100).dropna()\n",
    "    \n",
    "    return x\n",
    "\n",
    "Returns = calc_returns(df_prices)\n",
    "Returns"
   ]
  },
  {
   "cell_type": "markdown",
   "metadata": {},
   "source": [
    "### 4.2 From returns to betas (15 points)\n",
    "\n",
    "Now, we're going to do a couple of capm regressions, obtaining betas from those regressions and putting the betas in a list. We will assume a zero risk free rate to keep things simple (so the the capm regression only has two variables, the stock itself and the market, in this case the S&P500, the ticker for which is 'SPY'). Also, you need to import statsmodels.regression.linear_model (see below).\n",
    "\n",
    "The assignment is: create a function 'beta_calculator' that takes as input the DataFrame'Returns' (created in the previous exercise) and outputs a _list_ of stock betas. The idea behind this exercise is that you can do hundreds of capm regressions using this function, the only thing you have to do is expand the list of stock tickers when you retrieve the data. The function should loop over the columns (stocks) and for each stock run a regression that takes the first column (in our case 'SPY') as the independent variable and the other columns as dependent variable and then runs the appropriate regression.\n",
    "\n",
    "Some hints:\n",
    "\n",
    "1. We will assume a zero risk free rate here, so your capm regression is $Rit = a + b(RMt) + Eit$, where Rit is the return on stock i at time t and RMit is the return on the S&P500 at time t and Eit is a normally distributed error term.\n",
    "\n",
    "2. You can use a for loop to loop over the stocks\n",
    "\n",
    "3. You could use the 'from_formula' module of statsmodels to do the regressions, this way you don't have to specify each regression separately. Feel free to use something else if this method seems too complicated."
   ]
  },
  {
   "cell_type": "code",
   "execution_count": 9,
   "metadata": {},
   "outputs": [],
   "source": [
    "import statsmodels.regression.linear_model as sm"
   ]
  },
  {
   "cell_type": "code",
   "execution_count": 10,
   "metadata": {},
   "outputs": [],
   "source": [
    "import statsmodels.formula.api as smf"
   ]
  },
  {
   "cell_type": "code",
   "execution_count": 11,
   "metadata": {},
   "outputs": [
    {
     "name": "stdout",
     "output_type": "stream",
     "text": [
      "[1.0000000000000002, 0.9867163630816228, 1.4829721139229428, 1.0513893784748416, 1.1290489801639918]\n"
     ]
    }
   ],
   "source": [
    "def beta_calculator(returns):\n",
    "    # step 1: find out what column-labels returns has\n",
    "    # result will be like [blabla, boeboe, foo, etx] \n",
    "    # result is empty list\n",
    "    betas=[]\n",
    "    # step 2: what is the name of the first column and store it\n",
    "    # result should be blabla \n",
    "    #column_1 = returns.iloc[:,0].stored() \n",
    "    # step 3: start a loop in which you regress blabla against itself PLUS all other column names\n",
    "        # blabla ~ blabla -> do the regression -> beta\n",
    "        # blabla ~ boeboe -> do the regression -> beta\n",
    "        # blabla ~ foo -> beta\n",
    "        \n",
    "    for stock in returns.columns[0:]:\n",
    "        model = smf.ols(formula = f'{stock} ~ {returns.columns[0]}', data = returns) #f'{stock} ~ {returns.columns[0]}\n",
    "        fit = model.fit()\n",
    "        Regression_result = fit.summary()\n",
    "        Beta = fit.params[returns.columns[0]]  \n",
    "        betas.append(Beta)  \n",
    "        \n",
    "        # after EVERY regression, you will store the beta into result\n",
    "        \n",
    "    # step 4: return result\n",
    "    return betas \n",
    "\n",
    "betas = beta_calculator(Returns)\n",
    "print(betas)"
   ]
  },
  {
   "cell_type": "markdown",
   "metadata": {},
   "source": [
    "### 4.3 Rounded betas (5 points)\n",
    "\n",
    "Create a function called 'round_betas' that rounds a list of floats (in our case the list of betas) to one with rounded floats (2 decimals behind the comma). Use a list comprehension"
   ]
  },
  {
   "cell_type": "code",
   "execution_count": 13,
   "metadata": {},
   "outputs": [
    {
     "data": {
      "text/plain": [
       "[1.0, 0.99, 1.48, 1.05, 1.13]"
      ]
     },
     "execution_count": 13,
     "metadata": {},
     "output_type": "execute_result"
    }
   ],
   "source": [
    "def round_betas(float_list):\n",
    "    # your code here\n",
    "    \n",
    "    result = [beta.round(2) for beta in float_list]\n",
    "    return result \n",
    "\n",
    "round_betas(betas)"
   ]
  },
  {
   "cell_type": "markdown",
   "metadata": {},
   "source": [
    "### 4.4 Standard deviation  (5 points)\n",
    "Create a function `stdevs` that calculates the daily standard deviation of the stocks in a DataFrame and produces the result in another DataFrame. The resulting DataFrame must have stock tickers as the index and the daily standard deviation of the stocks as rows. The (single) column name should be 'Standard Deviation'. No need to write a standard-deviation-function yourself. We're passed that now."
   ]
  },
  {
   "cell_type": "code",
   "execution_count": 24,
   "metadata": {},
   "outputs": [
    {
     "name": "stdout",
     "output_type": "stream",
     "text": [
      "     Standard Deviation\n",
      "SPY            0.796948\n",
      "ACN            1.072144\n",
      "C              1.543643\n",
      "JPM            1.184213\n",
      "NKE            1.320967\n"
     ]
    }
   ],
   "source": [
    "from numpy import std\n",
    "def stdevs(df):\n",
    "    # your code here\n",
    "    s = {}\n",
    "    s['Standard Deviation'] = pd.Series([std(df[column]) for column in df.columns],\n",
    "                                   index=[column for column in df.columns])\n",
    "\n",
    "    return pd.DataFrame(s)\n",
    "\n",
    "print(stdevs(Returns))"
   ]
  },
  {
   "cell_type": "markdown",
   "metadata": {},
   "source": [
    "### 4.5a Value at Risk (5 points)\n",
    "\n",
    "Create a function called `var_series` that takes a Series of returns as input and gives the 95% daily VaR of that Series as output. You could test the function by using it to calculate the 95% daily VaR of the S&P500 (e.g. use Returns['SPY'] as input). The result should be about -1.219."
   ]
  },
  {
   "cell_type": "code",
   "execution_count": 15,
   "metadata": {},
   "outputs": [
    {
     "data": {
      "text/plain": [
       "-1.2291671316215214"
      ]
     },
     "execution_count": 15,
     "metadata": {},
     "output_type": "execute_result"
    }
   ],
   "source": [
    "def var_series(daily_returns):\n",
    "    # your code here\n",
    "    var_level = 95\n",
    "    var_95 = np.percentile(daily_returns, 100 - var_level)\n",
    "    round(var_95, 2)\n",
    "    return var_95 \n",
    "\n",
    "var_series(Returns['SPY'])"
   ]
  },
  {
   "cell_type": "markdown",
   "metadata": {},
   "source": [
    "### 4.5b (5 points)\n",
    "\n",
    "Create a function called `df_var_creator` that takes two inputs: a function and a DataFrame (in our case the previously created function 'var_series' and our `Returns` DataFrame) and produces as output a DataFrame which has stock tickers as the index and the 95% daily VaR as rows. The column name should be '95% Daily VaR'."
   ]
  },
  {
   "cell_type": "code",
   "execution_count": 25,
   "metadata": {},
   "outputs": [
    {
     "name": "stdout",
     "output_type": "stream",
     "text": [
      "     95% Daily VaR\n",
      "SPY      -1.219167\n",
      "ACN      -1.565965\n",
      "C        -2.306362\n",
      "JPM      -1.797456\n",
      "NKE      -2.094425\n"
     ]
    }
   ],
   "source": [
    "def df_var_creator(func, df):\n",
    "    s = {}\n",
    "    s['95% Daily VaR'] = pd.Series([func(df[column]) for column in df.columns],\n",
    "                                   index=[column for column in df.columns])\n",
    "\n",
    "    return pd.DataFrame(s)\n",
    "\n",
    "print(df_var_creator(var_series, Returns))\n"
   ]
  }
 ],
 "metadata": {
  "kernelspec": {
   "display_name": "Python 3",
   "language": "python",
   "name": "python3"
  },
  "language_info": {
   "codemirror_mode": {
    "name": "ipython",
    "version": 3
   },
   "file_extension": ".py",
   "mimetype": "text/x-python",
   "name": "python",
   "nbconvert_exporter": "python",
   "pygments_lexer": "ipython3",
   "version": "3.7.4"
  }
 },
 "nbformat": 4,
 "nbformat_minor": 2
}
