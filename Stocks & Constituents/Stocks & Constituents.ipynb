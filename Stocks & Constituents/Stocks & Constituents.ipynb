{
 "cells": [
  {
   "cell_type": "markdown",
   "metadata": {},
   "source": [
    "## 3. Exercises "
   ]
  },
  {
   "cell_type": "markdown",
   "metadata": {},
   "source": [
    "1. Stock indexes like the Dow Jones Industrial Average are computed based on the returns of individual stocks. In the case of the Dow Jones there are 30 constituent stocks, but the S&P 500 is made up of 500 of the largest stocks listed on US stock exchanges. Sometimes you want to check whether certain stocks are constituents of an index. (Note: you shouldn't confuse a `stock index` with a `list index here`...)\n",
    "\n",
    "    Your task is to implement a search function `search_stock`. It takes 2 arguments: the list `constituents`, and `stock` which might be an element of `constituents`. Return False if `stock` can not be found in `constituents`, otherwise return the index of the _first occurrence_ of `stock` in `constituents`. Bonus points if you stop searching when `stock` is found."
   ]
  },
  {
   "cell_type": "code",
   "execution_count": 22,
   "metadata": {},
   "outputs": [
    {
     "data": {
      "text/plain": [
       "False"
      ]
     },
     "execution_count": 22,
     "metadata": {},
     "output_type": "execute_result"
    }
   ],
   "source": [
    "# a list for testing purposes\n",
    "DJ = ['3M','AMERICAN EXPRESS','APPLE','BOEING','CATERPILLAR','CHEVRON', 'CISCO SYSTEMS',\n",
    "      'COCA COLA', 'COCA COLA', 'DOW ORD SHS','EXXON MOBIL','GOLDMAN SACHS GP.','HOME DEPOT','INTEL', 'INTEL'\n",
    "      'INTERNATIONAL BUS.MCHS.','JP MORGAN CHASE & CO.','JOHNSON & JOHNSON', \n",
    "      'MCDONALDS','MERCK & COMPANY','MICROSOFT',\"NIKE 'B'\",'PFIZER','PROCTER & GAMBLE',\n",
    "      'TRAVELERS COS.','UNITED TECHNOLOGIES','UNITEDHEALTH GROUP','VERIZON COMMUNICATIONS',\n",
    "      \"VISA 'A'\",'WALGREENS BOOTS ALLIANCE','WALMART','WALT DISNEY']\n",
    "\n",
    "def search_stock(constituents, stock):\n",
    "    for index,item in enumerate(constituents):\n",
    "        if item==stock:\n",
    "#             print(index)\n",
    "            return index\n",
    "        elif index==(len(constituents)-1):\n",
    "#             print (False)\n",
    "            return False\n",
    "# test code\n",
    "search_stock(DJ, 'APPLE') # should return 2\n",
    "search_stock(DJ, 'DUINDORP') # should return False"
   ]
  },
  {
   "cell_type": "markdown",
   "metadata": {},
   "source": [
    "2. Implement `search_all_stocks`. It takes a list `constituents` and a list `stocks`. The latter contains one or more stocks that we would like to find in `constituents`. This function should return the list index of every occurrence of stock in `constituents`, and False if the stock couldn't be found. Note that due to a database error, a few stocks are reported multiple times.\n",
    "\n",
    "But what are you going to return? A plain with list indexes isn't very intuitive... this result: `[13, 14, 7, 8, 0]` is useless for `needles`: `['INTEL', 'COCA COLA', '3M']`. A better idea is to return a list of tuples containing the needles and their corresponding indexes like this: `[('3M', 0), ('COCA COLA', 7), ('COCA COLA', 7), ('DOW ORD SHS', 8)]. To formalize: `[(needle_1, index_n1_0), (needle_2, index_n1_7), ..., (needle_n, index_n_m)]`."
   ]
  },
  {
   "cell_type": "markdown",
   "metadata": {},
   "source": [
    "3. Implement the function `median` which calculates the median of a list. Your input list `l` may contain an even or odd number of elements. Remember you can sort lists with `sorted`."
   ]
  },
  {
   "cell_type": "code",
   "execution_count": 23,
   "metadata": {},
   "outputs": [
    {
     "data": {
      "text/plain": [
       "[(4, 'CATERPILLAR'), (7, 'COCA COLA'), (8, 'COCA COLA'), ('SHELL', False)]"
      ]
     },
     "execution_count": 23,
     "metadata": {},
     "output_type": "execute_result"
    }
   ],
   "source": [
    "def search_all_stocks(constituents, stocks):\n",
    "    result = None\n",
    "#     for stocks_index,stock in enumerate(stocks):\n",
    "    list1=[]\n",
    "    list2=[]\n",
    "    k=0\n",
    "    for index1,item1 in enumerate(constituents):\n",
    "        i=0\n",
    "        for item2 in stocks:\n",
    "            if item1==stocks[i]:\n",
    "                tpl=(index1,item1)\n",
    "                list1.append(tpl)\n",
    "            elif index1==(len(constituents)-1):\n",
    "                tpl=(stocks[i-1],False)\n",
    "                list1.append(tpl)\n",
    "                break\n",
    "            i+=1\n",
    "    return list1\n",
    "# test_code\n",
    "search_all_stocks(DJ, ['CATERPILLAR', 'COCA COLA', 'SHELL']) \n",
    "# must return [(4, 'CATERPILLAR'), (7, 'COCA COLA'), (8, 'COCA COLA'), ('SHELL', False)] (see list DJ)"
   ]
  },
  {
   "cell_type": "code",
   "execution_count": 16,
   "metadata": {},
   "outputs": [
    {
     "name": "stdout",
     "output_type": "stream",
     "text": [
      "[1, 2, 3, 4, 5, 6, 7, 7, 8, 9, 9, 9, 9, 9, 10, 11, 12, 13, 14, 14]\n"
     ]
    },
    {
     "data": {
      "text/plain": [
       "9.0"
      ]
     },
     "execution_count": 16,
     "metadata": {},
     "output_type": "execute_result"
    }
   ],
   "source": [
    "# no introduction necessary, you know what a median is.\n",
    "\n",
    "# a list for testing purposes\n",
    "lst = [14, 1, 2, 13, 4, 3, 5, 10, 9, 7, 8, 6, 12, 11, 14, 9, 9, 9, 9, 7]\n",
    "#testo = [1,2,3,4,5,6,7,8,9,10,11,12,13,14,15,16,17,18,19,20]\n",
    "# write your function here:\n",
    "def median(lst):\n",
    "    l = len(lst)\n",
    "    s = sorted(lst)\n",
    "    print(s)\n",
    "    if (l%2)==0:\n",
    "        return sum(s[l//2-1:l//2+1])/2 #what is that\n",
    "    else:\n",
    "        return s[(l)//2]\n",
    "\n",
    "# median(test_list) # must return 9.0\n",
    "median(lst)"
   ]
  },
  {
   "cell_type": "markdown",
   "metadata": {},
   "source": [
    "4. Write a list-comprehension that grabs all elements of a list with a value greater than 5. Assign it to the variable `greater_5`."
   ]
  },
  {
   "cell_type": "code",
   "execution_count": 25,
   "metadata": {},
   "outputs": [
    {
     "data": {
      "text/plain": [
       "[9, 10, 7]"
      ]
     },
     "execution_count": 25,
     "metadata": {},
     "output_type": "execute_result"
    }
   ],
   "source": [
    "l = [1, 3, 9, 10, 7, 2, 4, 5]\n",
    "\n",
    "# write your list comprension below, the result shoud be [9, 10, 7]\n",
    "greater_5 = [x for x in l if x>5]\n",
    "greater_5"
   ]
  },
  {
   "cell_type": "markdown",
   "metadata": {},
   "source": [
    "5. Write a function that _applies_ another function on every element of a list and returns the result. Use a list-comprehension. "
   ]
  },
  {
   "cell_type": "code",
   "execution_count": 26,
   "metadata": {},
   "outputs": [
    {
     "data": {
      "text/plain": [
       "[2, 4, 6, 8, 10, 12, 14]"
      ]
     },
     "execution_count": 26,
     "metadata": {},
     "output_type": "execute_result"
    }
   ],
   "source": [
    "def apply(l, func):\n",
    "    # your code here\n",
    "    k=0        #doesnt work with iterator i\n",
    "    for i in l:\n",
    "        l[k] = func(l[k])\n",
    "        k+=1\n",
    "    return l\n",
    "\n",
    "apply([1, 2, 3, 4, 5, 6, 7], (lambda x: x * 2)) # must equal [2, 4, 6, 8, 10, 12, 14]"
   ]
  },
  {
   "cell_type": "markdown",
   "metadata": {},
   "source": [
    "6. Implement the variance to calculate the variance of stock returns. This function takes one list of returns as argument.\n",
    "\n",
    "$$\n",
    "var(X) = \\frac{\\Sigma (x_i - \\overline{x})}{N - 1}\n",
    "$$"
   ]
  },
  {
   "cell_type": "code",
   "execution_count": 27,
   "metadata": {},
   "outputs": [
    {
     "data": {
      "text/plain": [
       "12.09306947368421"
      ]
     },
     "execution_count": 27,
     "metadata": {},
     "output_type": "execute_result"
    }
   ],
   "source": [
    "# First we define two lists with 20 stock returns (in %)\n",
    "stock_A = [1.41,5.84,2.05,1.22,-4.92,-7.23,0.41,-18.35,21.76,-9.91,15.61,17.37,5.6,-0.23,0.17,-0.98,26.12,7.88,7.17,20.34]\n",
    "stock_B = [2.27,7.24,-3.88,2.8,0.83,-2.81,-1.39,0.5,0.5,-0.5,5.18,-1.97,0.5,4.88,-1.5,-8.44,-2.73,0.94,-1.23,0.05]\n",
    "import numpy as np\n",
    "def variance(x):\n",
    "    result=0\n",
    "#     sumo=sum(x[:])\n",
    "#     avg=sumo/n\n",
    "    avg=np.mean(x)\n",
    "    \n",
    "    for i in x:\n",
    "        result+=(i-avg)**2\n",
    "    \n",
    "    return result/(len(x)-1)\n",
    "    \n",
    "\n",
    "# test code\n",
    "variance(stock_B) # must return 12.09306947368421"
   ]
  },
  {
   "cell_type": "markdown",
   "metadata": {},
   "source": [
    "7. Implement the covariance. This function takes 2 lists with stock returns `x` and `y`. Assume they have equal lengths:\n",
    "\n",
    "$$\n",
    "cov(X, Y) = \\frac{\\Sigma (x_i - \\overline{x}) \\cdot (y_i - \\overline{y})}{N - 1}\n",
    "$$"
   ]
  },
  {
   "cell_type": "code",
   "execution_count": 28,
   "metadata": {},
   "outputs": [
    {
     "data": {
      "text/plain": [
       "2.2229915789473687"
      ]
     },
     "execution_count": 28,
     "metadata": {},
     "output_type": "execute_result"
    }
   ],
   "source": [
    "import statistics as st\n",
    "import numpy as np\n",
    "def covariance(x, y):\n",
    "        if len(x)!=len(y):\n",
    "            print(\"Samples do not have same population!\")\n",
    "            return None\n",
    "        avg_x = np.mean(x)\n",
    "        avg_y = np.mean(y)\n",
    "        result=0\n",
    "        \n",
    "        for i in range(0, len(x)):\n",
    "            result += (x[i]-avg_x)*(y[i]-avg_y)\n",
    "        return result/(len(x)-1)\n",
    "        \n",
    "\n",
    "# test code\n",
    "covariance(stock_A, stock_B) # must return 2.2229915789473687"
   ]
  },
  {
   "cell_type": "markdown",
   "metadata": {},
   "source": [
    "8. Next we want to calculate the portfolio standard deviation of the two stock returns. As you know the formula for a portfolio standard deviation is given by:\n",
    "$$\n",
    "\\sigma_p = \\sqrt{w_x^2\\sigma_x^2 + w_y^2\\sigma_y^2 + 2w_xw_ycov(x,y)}\n",
    "$$\n",
    "\n",
    "    This function takes 2 lists `x` and `y` and the weight `w_x` as input (`w_y = 1-w_x`). You can use the variance and covariance functions you  already created. Assume you only take long positions (weights are positive) and weights sum to one. Bonus points if your function returns an error when weights are negative or larger than 100%."
   ]
  },
  {
   "cell_type": "code",
   "execution_count": 29,
   "metadata": {},
   "outputs": [
    {
     "data": {
      "text/plain": [
       "4.267761107542528"
      ]
     },
     "execution_count": 29,
     "metadata": {},
     "output_type": "execute_result"
    }
   ],
   "source": [
    "def portfolio_standard_deviation(x,y,w_x):\n",
    "    if (w_x<0) | (w_x>1):\n",
    "        print(\"The weights given are wrong!\")\n",
    "        return None\n",
    "    else:\n",
    "        return (w_x**2*variance(x)+(1-w_x)**2*variance(y)+2*w_x*(1-w_x)*covariance(x,y))**0.5\n",
    "\n",
    "portfolio_standard_deviation(stock_A,stock_B,0.3) #should return 4.267761107542528%"
   ]
  }
 ],
 "metadata": {
  "kernelspec": {
   "display_name": "Python 3",
   "language": "python",
   "name": "python3"
  },
  "language_info": {
   "codemirror_mode": {
    "name": "ipython",
    "version": 3
   },
   "file_extension": ".py",
   "mimetype": "text/x-python",
   "name": "python",
   "nbconvert_exporter": "python",
   "pygments_lexer": "ipython3",
   "version": "3.7.4"
  }
 },
 "nbformat": 4,
 "nbformat_minor": 2
}
